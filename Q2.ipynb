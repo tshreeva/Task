{
 "cells": [
  {
   "cell_type": "code",
   "execution_count": 1,
   "metadata": {},
   "outputs": [],
   "source": [
    "import numpy as np\n",
    "import pandas as pd\n",
    "import matplotlib.pyplot as plt\n",
    "import seaborn as sns"
   ]
  },
  {
   "cell_type": "code",
   "execution_count": 2,
   "metadata": {},
   "outputs": [],
   "source": [
    "data = pd.read_csv(r\"C:\\Users\\ladm\\Downloads\\data 3.csv\")"
   ]
  },
  {
   "cell_type": "code",
   "execution_count": 3,
   "metadata": {},
   "outputs": [
    {
     "data": {
      "text/html": [
       "<div>\n",
       "<style scoped>\n",
       "    .dataframe tbody tr th:only-of-type {\n",
       "        vertical-align: middle;\n",
       "    }\n",
       "\n",
       "    .dataframe tbody tr th {\n",
       "        vertical-align: top;\n",
       "    }\n",
       "\n",
       "    .dataframe thead th {\n",
       "        text-align: right;\n",
       "    }\n",
       "</style>\n",
       "<table border=\"1\" class=\"dataframe\">\n",
       "  <thead>\n",
       "    <tr style=\"text-align: right;\">\n",
       "      <th></th>\n",
       "      <th>Task ID</th>\n",
       "      <th>Client ID</th>\n",
       "      <th>Task Name</th>\n",
       "      <th>Time taken(hours)</th>\n",
       "      <th>Cost($)</th>\n",
       "      <th>Project Lead</th>\n",
       "      <th>Location</th>\n",
       "      <th>category</th>\n",
       "      <th>Task Created</th>\n",
       "      <th>Revenue($)</th>\n",
       "    </tr>\n",
       "  </thead>\n",
       "  <tbody>\n",
       "    <tr>\n",
       "      <th>0</th>\n",
       "      <td>1925574</td>\n",
       "      <td>210000</td>\n",
       "      <td>Analysis</td>\n",
       "      <td>14</td>\n",
       "      <td>400.00</td>\n",
       "      <td>Sam</td>\n",
       "      <td>Nepal</td>\n",
       "      <td>Cybersecurity</td>\n",
       "      <td>10/1/2015 0:24</td>\n",
       "      <td>512.00</td>\n",
       "    </tr>\n",
       "    <tr>\n",
       "      <th>1</th>\n",
       "      <td>1925617</td>\n",
       "      <td>210000</td>\n",
       "      <td>Questionnaire</td>\n",
       "      <td>17</td>\n",
       "      <td>400.00</td>\n",
       "      <td>Lauren</td>\n",
       "      <td>USA</td>\n",
       "      <td>General</td>\n",
       "      <td>10/1/2015 0:26</td>\n",
       "      <td>314.00</td>\n",
       "    </tr>\n",
       "    <tr>\n",
       "      <th>2</th>\n",
       "      <td>943600</td>\n",
       "      <td>11272000</td>\n",
       "      <td>Questionnaire</td>\n",
       "      <td>17</td>\n",
       "      <td>260.00</td>\n",
       "      <td>Sumesh</td>\n",
       "      <td>UK</td>\n",
       "      <td>General</td>\n",
       "      <td>8/25/2015 21:02</td>\n",
       "      <td>290.00</td>\n",
       "    </tr>\n",
       "    <tr>\n",
       "      <th>3</th>\n",
       "      <td>1064405</td>\n",
       "      <td>210000</td>\n",
       "      <td>Review- Level 1</td>\n",
       "      <td>61</td>\n",
       "      <td>356.00</td>\n",
       "      <td>Rajiv</td>\n",
       "      <td>Nepal</td>\n",
       "      <td>Network Communication</td>\n",
       "      <td>8/30/2015 20:16</td>\n",
       "      <td>89.00</td>\n",
       "    </tr>\n",
       "    <tr>\n",
       "      <th>4</th>\n",
       "      <td>20046620</td>\n",
       "      <td>760000</td>\n",
       "      <td>Questionnaire</td>\n",
       "      <td>16</td>\n",
       "      <td>444.00</td>\n",
       "      <td>Dipak</td>\n",
       "      <td>Nepal</td>\n",
       "      <td>Password</td>\n",
       "      <td>5/9/2016 1:14</td>\n",
       "      <td>90.00</td>\n",
       "    </tr>\n",
       "    <tr>\n",
       "      <th>5</th>\n",
       "      <td>20047128</td>\n",
       "      <td>760000</td>\n",
       "      <td>Review- Level 1</td>\n",
       "      <td>44</td>\n",
       "      <td>900.00</td>\n",
       "      <td>Sunita</td>\n",
       "      <td>UK</td>\n",
       "      <td>General</td>\n",
       "      <td>5/9/2016 1:18</td>\n",
       "      <td>35.00</td>\n",
       "    </tr>\n",
       "    <tr>\n",
       "      <th>6</th>\n",
       "      <td>78419076</td>\n",
       "      <td>210000</td>\n",
       "      <td>Questionnaire</td>\n",
       "      <td>55</td>\n",
       "      <td>567.00</td>\n",
       "      <td>Sam</td>\n",
       "      <td>UK</td>\n",
       "      <td>General</td>\n",
       "      <td>10/20/2016 11:17</td>\n",
       "      <td>143.60</td>\n",
       "    </tr>\n",
       "    <tr>\n",
       "      <th>7</th>\n",
       "      <td>252736983</td>\n",
       "      <td>11272000</td>\n",
       "      <td>Analysis</td>\n",
       "      <td>70</td>\n",
       "      <td>78.00</td>\n",
       "      <td>Sumesh</td>\n",
       "      <td>USA</td>\n",
       "      <td>Password</td>\n",
       "      <td>5/9/2017 18:33</td>\n",
       "      <td>28.72</td>\n",
       "    </tr>\n",
       "    <tr>\n",
       "      <th>8</th>\n",
       "      <td>793229430</td>\n",
       "      <td>49082000</td>\n",
       "      <td>Analysis</td>\n",
       "      <td>23</td>\n",
       "      <td>90.00</td>\n",
       "      <td>Rajiv</td>\n",
       "      <td>UK</td>\n",
       "      <td>Password</td>\n",
       "      <td>12/28/2017 19:55</td>\n",
       "      <td>112.00</td>\n",
       "    </tr>\n",
       "    <tr>\n",
       "      <th>9</th>\n",
       "      <td>809446063</td>\n",
       "      <td>210000</td>\n",
       "      <td>Analysis</td>\n",
       "      <td>19</td>\n",
       "      <td>190.00</td>\n",
       "      <td>Dipak</td>\n",
       "      <td>UK</td>\n",
       "      <td>Password</td>\n",
       "      <td>1/5/2018 16:08</td>\n",
       "      <td>199.00</td>\n",
       "    </tr>\n",
       "    <tr>\n",
       "      <th>10</th>\n",
       "      <td>809446145</td>\n",
       "      <td>210000</td>\n",
       "      <td>Questionnaire</td>\n",
       "      <td>17</td>\n",
       "      <td>89.00</td>\n",
       "      <td>Sunita</td>\n",
       "      <td>UK</td>\n",
       "      <td>General</td>\n",
       "      <td>1/5/2018 16:08</td>\n",
       "      <td>324.00</td>\n",
       "    </tr>\n",
       "    <tr>\n",
       "      <th>11</th>\n",
       "      <td>809427287</td>\n",
       "      <td>210000</td>\n",
       "      <td>Analysis</td>\n",
       "      <td>21</td>\n",
       "      <td>575.00</td>\n",
       "      <td>Priya</td>\n",
       "      <td>Nepal</td>\n",
       "      <td>Network Communication</td>\n",
       "      <td>1/5/2018 16:02</td>\n",
       "      <td>277.00</td>\n",
       "    </tr>\n",
       "    <tr>\n",
       "      <th>12</th>\n",
       "      <td>809427305</td>\n",
       "      <td>49082000</td>\n",
       "      <td>Questionnaire</td>\n",
       "      <td>56</td>\n",
       "      <td>980.00</td>\n",
       "      <td>Rajiv</td>\n",
       "      <td>Nepal</td>\n",
       "      <td>Network Communication</td>\n",
       "      <td>1/5/2018 16:02</td>\n",
       "      <td>310.00</td>\n",
       "    </tr>\n",
       "    <tr>\n",
       "      <th>13</th>\n",
       "      <td>793240796</td>\n",
       "      <td>53609000</td>\n",
       "      <td>Questionnaire</td>\n",
       "      <td>14</td>\n",
       "      <td>7.69</td>\n",
       "      <td>Dipak</td>\n",
       "      <td>Nepal</td>\n",
       "      <td>Password</td>\n",
       "      <td>12/28/2017 20:00</td>\n",
       "      <td>167.00</td>\n",
       "    </tr>\n",
       "    <tr>\n",
       "      <th>14</th>\n",
       "      <td>809446084</td>\n",
       "      <td>49082000</td>\n",
       "      <td>Questionnaire</td>\n",
       "      <td>85</td>\n",
       "      <td>8.32</td>\n",
       "      <td>Reecha</td>\n",
       "      <td>Nepal</td>\n",
       "      <td>Password</td>\n",
       "      <td>1/5/2018 16:08</td>\n",
       "      <td>100.00</td>\n",
       "    </tr>\n",
       "    <tr>\n",
       "      <th>15</th>\n",
       "      <td>809364705</td>\n",
       "      <td>49082000</td>\n",
       "      <td>Analysis</td>\n",
       "      <td>34</td>\n",
       "      <td>14.97</td>\n",
       "      <td>Dipak</td>\n",
       "      <td>UK</td>\n",
       "      <td>General</td>\n",
       "      <td>1/5/2018 15:42</td>\n",
       "      <td>178.00</td>\n",
       "    </tr>\n",
       "    <tr>\n",
       "      <th>16</th>\n",
       "      <td>809408225</td>\n",
       "      <td>49082000</td>\n",
       "      <td>Questionnaire</td>\n",
       "      <td>14</td>\n",
       "      <td>12.99</td>\n",
       "      <td>Ajit</td>\n",
       "      <td>Nepal</td>\n",
       "      <td>General</td>\n",
       "      <td>1/5/2018 15:56</td>\n",
       "      <td>234.00</td>\n",
       "    </tr>\n",
       "    <tr>\n",
       "      <th>17</th>\n",
       "      <td>809446215</td>\n",
       "      <td>210000</td>\n",
       "      <td>Questionnaire</td>\n",
       "      <td>14</td>\n",
       "      <td>8.29</td>\n",
       "      <td>Dipak</td>\n",
       "      <td>Nepal</td>\n",
       "      <td>Password</td>\n",
       "      <td>1/5/2018 16:08</td>\n",
       "      <td>124.00</td>\n",
       "    </tr>\n",
       "    <tr>\n",
       "      <th>18</th>\n",
       "      <td>809446365</td>\n",
       "      <td>49082000</td>\n",
       "      <td>Questionnaire</td>\n",
       "      <td>98</td>\n",
       "      <td>8.36</td>\n",
       "      <td>Rajiv</td>\n",
       "      <td>Nepal</td>\n",
       "      <td>Password</td>\n",
       "      <td>1/5/2018 16:08</td>\n",
       "      <td>210.00</td>\n",
       "    </tr>\n",
       "    <tr>\n",
       "      <th>19</th>\n",
       "      <td>1549975</td>\n",
       "      <td>225000</td>\n",
       "      <td>Questionnaire</td>\n",
       "      <td>89</td>\n",
       "      <td>15.00</td>\n",
       "      <td>Ajit</td>\n",
       "      <td>Nepal</td>\n",
       "      <td>Password</td>\n",
       "      <td>9/17/2015 19:09</td>\n",
       "      <td>100.00</td>\n",
       "    </tr>\n",
       "    <tr>\n",
       "      <th>20</th>\n",
       "      <td>1578584</td>\n",
       "      <td>49082000</td>\n",
       "      <td>Questionnaire</td>\n",
       "      <td>67</td>\n",
       "      <td>13.90</td>\n",
       "      <td>Dipak</td>\n",
       "      <td>USA</td>\n",
       "      <td>Cybersecurity</td>\n",
       "      <td>9/18/2015 18:57</td>\n",
       "      <td>760.00</td>\n",
       "    </tr>\n",
       "    <tr>\n",
       "      <th>21</th>\n",
       "      <td>1166505</td>\n",
       "      <td>582000</td>\n",
       "      <td>Questionnaire</td>\n",
       "      <td>82</td>\n",
       "      <td>30.00</td>\n",
       "      <td>Mike</td>\n",
       "      <td>Romani</td>\n",
       "      <td>Cybersecurity</td>\n",
       "      <td>9/4/2015 0:25</td>\n",
       "      <td>100.00</td>\n",
       "    </tr>\n",
       "    <tr>\n",
       "      <th>22</th>\n",
       "      <td>1166561</td>\n",
       "      <td>582000</td>\n",
       "      <td>Review- Level 1</td>\n",
       "      <td>123</td>\n",
       "      <td>40.00</td>\n",
       "      <td>Reecha</td>\n",
       "      <td>USA</td>\n",
       "      <td>Password</td>\n",
       "      <td>9/4/2015 0:28</td>\n",
       "      <td>123.00</td>\n",
       "    </tr>\n",
       "    <tr>\n",
       "      <th>23</th>\n",
       "      <td>868293551</td>\n",
       "      <td>760000</td>\n",
       "      <td>Questionnaire</td>\n",
       "      <td>67</td>\n",
       "      <td>158.00</td>\n",
       "      <td>Mark</td>\n",
       "      <td>Romania</td>\n",
       "      <td>Network Communication</td>\n",
       "      <td>1/26/2018 14:51</td>\n",
       "      <td>456.00</td>\n",
       "    </tr>\n",
       "    <tr>\n",
       "      <th>24</th>\n",
       "      <td>868298757</td>\n",
       "      <td>53609000</td>\n",
       "      <td>Questionnaire</td>\n",
       "      <td>75</td>\n",
       "      <td>158.00</td>\n",
       "      <td>Lauren</td>\n",
       "      <td>USA</td>\n",
       "      <td>Cybersecurity</td>\n",
       "      <td>1/26/2018 14:53</td>\n",
       "      <td>321.00</td>\n",
       "    </tr>\n",
       "    <tr>\n",
       "      <th>25</th>\n",
       "      <td>868417234</td>\n",
       "      <td>760000</td>\n",
       "      <td>Questionnaire</td>\n",
       "      <td>31</td>\n",
       "      <td>218.00</td>\n",
       "      <td>Mark</td>\n",
       "      <td>Romania</td>\n",
       "      <td>Network Communication</td>\n",
       "      <td>1/26/2018 15:30</td>\n",
       "      <td>222.00</td>\n",
       "    </tr>\n",
       "    <tr>\n",
       "      <th>26</th>\n",
       "      <td>868421248</td>\n",
       "      <td>53609000</td>\n",
       "      <td>Review- Level 1</td>\n",
       "      <td>123</td>\n",
       "      <td>218.00</td>\n",
       "      <td>Mark</td>\n",
       "      <td>Romania</td>\n",
       "      <td>Network Communication</td>\n",
       "      <td>1/26/2018 15:31</td>\n",
       "      <td>138.00</td>\n",
       "    </tr>\n",
       "    <tr>\n",
       "      <th>27</th>\n",
       "      <td>864678643</td>\n",
       "      <td>582000</td>\n",
       "      <td>Review- Level 1</td>\n",
       "      <td>33</td>\n",
       "      <td>118.00</td>\n",
       "      <td>Sam</td>\n",
       "      <td>Romania</td>\n",
       "      <td>Cybersecurity</td>\n",
       "      <td>1/25/2018 13:29</td>\n",
       "      <td>100.00</td>\n",
       "    </tr>\n",
       "    <tr>\n",
       "      <th>28</th>\n",
       "      <td>864801685</td>\n",
       "      <td>53609000</td>\n",
       "      <td>Review- Level 1</td>\n",
       "      <td>140</td>\n",
       "      <td>118.00</td>\n",
       "      <td>Ajit</td>\n",
       "      <td>USA</td>\n",
       "      <td>Password</td>\n",
       "      <td>1/25/2018 14:11</td>\n",
       "      <td>345.00</td>\n",
       "    </tr>\n",
       "    <tr>\n",
       "      <th>29</th>\n",
       "      <td>864812407</td>\n",
       "      <td>582000</td>\n",
       "      <td>Review- Level 1</td>\n",
       "      <td>92</td>\n",
       "      <td>118.00</td>\n",
       "      <td>Ajit</td>\n",
       "      <td>USA</td>\n",
       "      <td>Password</td>\n",
       "      <td>1/25/2018 14:15</td>\n",
       "      <td>540.00</td>\n",
       "    </tr>\n",
       "    <tr>\n",
       "      <th>30</th>\n",
       "      <td>874063253</td>\n",
       "      <td>53609000</td>\n",
       "      <td>Questionnaire</td>\n",
       "      <td>99</td>\n",
       "      <td>218.00</td>\n",
       "      <td>Dipak</td>\n",
       "      <td>USA</td>\n",
       "      <td>Cybersecurity</td>\n",
       "      <td>1/28/2018 14:07</td>\n",
       "      <td>152.00</td>\n",
       "    </tr>\n",
       "    <tr>\n",
       "      <th>31</th>\n",
       "      <td>874066799</td>\n",
       "      <td>53609000</td>\n",
       "      <td>Review- Level 1</td>\n",
       "      <td>56</td>\n",
       "      <td>218.00</td>\n",
       "      <td>Sumesh</td>\n",
       "      <td>USA</td>\n",
       "      <td>Password</td>\n",
       "      <td>1/28/2018 14:08</td>\n",
       "      <td>106.00</td>\n",
       "    </tr>\n",
       "    <tr>\n",
       "      <th>32</th>\n",
       "      <td>868264273</td>\n",
       "      <td>582000</td>\n",
       "      <td>Analysis</td>\n",
       "      <td>54</td>\n",
       "      <td>128.00</td>\n",
       "      <td>Reecha</td>\n",
       "      <td>Nepal</td>\n",
       "      <td>Cybersecurity</td>\n",
       "      <td>1/26/2018 14:41</td>\n",
       "      <td>136.00</td>\n",
       "    </tr>\n",
       "    <tr>\n",
       "      <th>33</th>\n",
       "      <td>868270887</td>\n",
       "      <td>582000</td>\n",
       "      <td>Review- Level 1</td>\n",
       "      <td>87</td>\n",
       "      <td>118.00</td>\n",
       "      <td>Dipak</td>\n",
       "      <td>Nepal</td>\n",
       "      <td>Cybersecurity</td>\n",
       "      <td>1/26/2018 14:43</td>\n",
       "      <td>145.00</td>\n",
       "    </tr>\n",
       "    <tr>\n",
       "      <th>34</th>\n",
       "      <td>868606162</td>\n",
       "      <td>53609000</td>\n",
       "      <td>Review- Level 1</td>\n",
       "      <td>34</td>\n",
       "      <td>218.00</td>\n",
       "      <td>Reecha</td>\n",
       "      <td>USA</td>\n",
       "      <td>Password</td>\n",
       "      <td>1/26/2018 16:29</td>\n",
       "      <td>202.00</td>\n",
       "    </tr>\n",
       "    <tr>\n",
       "      <th>35</th>\n",
       "      <td>868609496</td>\n",
       "      <td>53609000</td>\n",
       "      <td>Analysis</td>\n",
       "      <td>29</td>\n",
       "      <td>218.00</td>\n",
       "      <td>Dipak</td>\n",
       "      <td>USA</td>\n",
       "      <td>Cybersecurity</td>\n",
       "      <td>1/26/2018 16:30</td>\n",
       "      <td>159.00</td>\n",
       "    </tr>\n",
       "    <tr>\n",
       "      <th>36</th>\n",
       "      <td>868520543</td>\n",
       "      <td>582000</td>\n",
       "      <td>Review- Level 1</td>\n",
       "      <td>81</td>\n",
       "      <td>228.00</td>\n",
       "      <td>Ajit</td>\n",
       "      <td>UK</td>\n",
       "      <td>Cybersecurity</td>\n",
       "      <td>1/26/2018 16:02</td>\n",
       "      <td>210.00</td>\n",
       "    </tr>\n",
       "  </tbody>\n",
       "</table>\n",
       "</div>"
      ],
      "text/plain": [
       "      Task ID  Client ID        Task Name  Time taken(hours)  Cost($)  \\\n",
       "0     1925574     210000         Analysis                 14   400.00   \n",
       "1     1925617     210000    Questionnaire                 17   400.00   \n",
       "2      943600   11272000    Questionnaire                 17   260.00   \n",
       "3     1064405     210000  Review- Level 1                 61   356.00   \n",
       "4    20046620     760000    Questionnaire                 16   444.00   \n",
       "5    20047128     760000  Review- Level 1                 44   900.00   \n",
       "6    78419076     210000    Questionnaire                 55   567.00   \n",
       "7   252736983   11272000         Analysis                 70    78.00   \n",
       "8   793229430   49082000         Analysis                 23    90.00   \n",
       "9   809446063     210000         Analysis                 19   190.00   \n",
       "10  809446145     210000    Questionnaire                 17    89.00   \n",
       "11  809427287     210000         Analysis                 21   575.00   \n",
       "12  809427305   49082000    Questionnaire                 56   980.00   \n",
       "13  793240796   53609000    Questionnaire                 14     7.69   \n",
       "14  809446084   49082000    Questionnaire                 85     8.32   \n",
       "15  809364705   49082000         Analysis                 34    14.97   \n",
       "16  809408225   49082000    Questionnaire                 14    12.99   \n",
       "17  809446215     210000    Questionnaire                 14     8.29   \n",
       "18  809446365   49082000    Questionnaire                 98     8.36   \n",
       "19    1549975     225000    Questionnaire                 89    15.00   \n",
       "20    1578584   49082000    Questionnaire                 67    13.90   \n",
       "21    1166505     582000    Questionnaire                 82    30.00   \n",
       "22    1166561     582000  Review- Level 1                123    40.00   \n",
       "23  868293551     760000    Questionnaire                 67   158.00   \n",
       "24  868298757   53609000    Questionnaire                 75   158.00   \n",
       "25  868417234     760000    Questionnaire                 31   218.00   \n",
       "26  868421248   53609000  Review- Level 1                123   218.00   \n",
       "27  864678643     582000  Review- Level 1                 33   118.00   \n",
       "28  864801685   53609000  Review- Level 1                140   118.00   \n",
       "29  864812407     582000  Review- Level 1                 92   118.00   \n",
       "30  874063253   53609000    Questionnaire                 99   218.00   \n",
       "31  874066799   53609000  Review- Level 1                 56   218.00   \n",
       "32  868264273     582000         Analysis                 54   128.00   \n",
       "33  868270887     582000  Review- Level 1                 87   118.00   \n",
       "34  868606162   53609000  Review- Level 1                 34   218.00   \n",
       "35  868609496   53609000         Analysis                 29   218.00   \n",
       "36  868520543     582000  Review- Level 1                 81   228.00   \n",
       "\n",
       "   Project Lead Location               category      Task Created  Revenue($)  \n",
       "0           Sam    Nepal          Cybersecurity    10/1/2015 0:24      512.00  \n",
       "1        Lauren      USA                General    10/1/2015 0:26      314.00  \n",
       "2        Sumesh       UK                General   8/25/2015 21:02      290.00  \n",
       "3         Rajiv    Nepal  Network Communication   8/30/2015 20:16       89.00  \n",
       "4         Dipak    Nepal               Password     5/9/2016 1:14       90.00  \n",
       "5        Sunita       UK                General     5/9/2016 1:18       35.00  \n",
       "6           Sam       UK                General  10/20/2016 11:17      143.60  \n",
       "7        Sumesh      USA               Password    5/9/2017 18:33       28.72  \n",
       "8         Rajiv       UK               Password  12/28/2017 19:55      112.00  \n",
       "9         Dipak       UK               Password    1/5/2018 16:08      199.00  \n",
       "10       Sunita       UK                General    1/5/2018 16:08      324.00  \n",
       "11        Priya    Nepal  Network Communication    1/5/2018 16:02      277.00  \n",
       "12        Rajiv    Nepal  Network Communication    1/5/2018 16:02      310.00  \n",
       "13        Dipak    Nepal               Password  12/28/2017 20:00      167.00  \n",
       "14       Reecha    Nepal               Password    1/5/2018 16:08      100.00  \n",
       "15        Dipak       UK                General    1/5/2018 15:42      178.00  \n",
       "16         Ajit    Nepal                General    1/5/2018 15:56      234.00  \n",
       "17        Dipak    Nepal               Password    1/5/2018 16:08      124.00  \n",
       "18        Rajiv    Nepal               Password    1/5/2018 16:08      210.00  \n",
       "19         Ajit    Nepal               Password   9/17/2015 19:09      100.00  \n",
       "20        Dipak      USA          Cybersecurity   9/18/2015 18:57      760.00  \n",
       "21         Mike   Romani          Cybersecurity     9/4/2015 0:25      100.00  \n",
       "22       Reecha      USA               Password     9/4/2015 0:28      123.00  \n",
       "23         Mark  Romania  Network Communication   1/26/2018 14:51      456.00  \n",
       "24       Lauren      USA          Cybersecurity   1/26/2018 14:53      321.00  \n",
       "25         Mark  Romania  Network Communication   1/26/2018 15:30      222.00  \n",
       "26         Mark  Romania  Network Communication   1/26/2018 15:31      138.00  \n",
       "27          Sam  Romania          Cybersecurity   1/25/2018 13:29      100.00  \n",
       "28         Ajit      USA               Password   1/25/2018 14:11      345.00  \n",
       "29         Ajit      USA               Password   1/25/2018 14:15      540.00  \n",
       "30        Dipak      USA          Cybersecurity   1/28/2018 14:07      152.00  \n",
       "31       Sumesh      USA               Password   1/28/2018 14:08      106.00  \n",
       "32       Reecha    Nepal          Cybersecurity   1/26/2018 14:41      136.00  \n",
       "33        Dipak    Nepal          Cybersecurity   1/26/2018 14:43      145.00  \n",
       "34       Reecha      USA               Password   1/26/2018 16:29      202.00  \n",
       "35        Dipak      USA          Cybersecurity   1/26/2018 16:30      159.00  \n",
       "36         Ajit       UK          Cybersecurity   1/26/2018 16:02      210.00  "
      ]
     },
     "execution_count": 3,
     "metadata": {},
     "output_type": "execute_result"
    }
   ],
   "source": [
    "data"
   ]
  },
  {
   "cell_type": "markdown",
   "metadata": {},
   "source": [
    "## Analysing the location"
   ]
  },
  {
   "cell_type": "code",
   "execution_count": 4,
   "metadata": {},
   "outputs": [
    {
     "data": {
      "text/plain": [
       "Text(0.5, 1.0, 'Location')"
      ]
     },
     "execution_count": 4,
     "metadata": {},
     "output_type": "execute_result"
    },
    {
     "data": {
      "image/png": "[encoded data removed]",
      "text/plain": [
       "<Figure size 864x864 with 1 Axes>"
      ]
     },
     "metadata": {},
     "output_type": "display_data"
    }
   ],
   "source": [
    "temp = pd.DataFrame({\"Location\": data['Location']})\n",
    "count_location = temp.value_counts()\n",
    "labels = [X[0] for X in count_location.keys()]\n",
    "bar , ax = plt.subplots (figsize = (12,12))\n",
    "ax = plt.pie(x=count_location , autopct = \"%.1f%%\" , labels = labels)\n",
    "plt.title (\"Location\", fontsize= 20)"
   ]
  },
  {
   "cell_type": "markdown",
   "metadata": {},
   "source": [
    "## This shows the % of Project Lead's location"
   ]
  },
  {
   "cell_type": "markdown",
   "metadata": {},
   "source": [
    "## Analysing the category"
   ]
  },
  {
   "cell_type": "code",
   "execution_count": 5,
   "metadata": {},
   "outputs": [
    {
     "data": {
      "text/plain": [
       "Text(0.5, 1.0, 'Category')"
      ]
     },
     "execution_count": 5,
     "metadata": {},
     "output_type": "execute_result"
    },
    {
     "data": {
      "image/png": "[encoded data removed]",
      "text/plain": [
       "<Figure size 864x864 with 1 Axes>"
      ]
     },
     "metadata": {},
     "output_type": "display_data"
    }
   ],
   "source": [
    "temp = pd.DataFrame({\"Category\": data['category']})\n",
    "count_category = temp.value_counts()\n",
    "labels = [X[0] for X in count_category.keys()]\n",
    "bar , ax = plt.subplots (figsize = (12,12))\n",
    "ax = plt.pie(x=count_category , autopct = \"%.1f%%\" , labels = labels)\n",
    "plt.title (\"Category\", fontsize= 20)"
   ]
  },
  {
   "cell_type": "markdown",
   "metadata": {},
   "source": [
    "## This shows the % of category of work"
   ]
  },
  {
   "cell_type": "markdown",
   "metadata": {},
   "source": [
    "## This gives the detail about Time Taken, Cost and Revenue of the provided data"
   ]
  },
  {
   "cell_type": "code",
   "execution_count": 6,
   "metadata": {},
   "outputs": [
    {
     "data": {
      "text/plain": [
       "(count     37.000000\n",
       " mean      55.432432\n",
       " std       35.687331\n",
       " min       14.000000\n",
       " 25%       21.000000\n",
       " 50%       55.000000\n",
       " 75%       82.000000\n",
       " max      140.000000\n",
       " Name: Time taken(hours), dtype: float64,\n",
       " count     37.000000\n",
       " mean     214.608649\n",
       " std      232.785115\n",
       " min        7.690000\n",
       " 25%       40.000000\n",
       " 50%      158.000000\n",
       " 75%      228.000000\n",
       " max      980.000000\n",
       " Name: Cost($), dtype: float64,\n",
       " count     37.000000\n",
       " mean     217.630270\n",
       " std      152.894592\n",
       " min       28.720000\n",
       " 25%      112.000000\n",
       " 50%      167.000000\n",
       " 75%      290.000000\n",
       " max      760.000000\n",
       " Name: Revenue($), dtype: float64)"
      ]
     },
     "execution_count": 6,
     "metadata": {},
     "output_type": "execute_result"
    }
   ],
   "source": [
    "data['Time taken(hours)'].describe(),data['Cost($)'].describe(),data['Revenue($)'].describe()"
   ]
  },
  {
   "cell_type": "markdown",
   "metadata": {},
   "source": [
    "## Top 5 most project containing project lead"
   ]
  },
  {
   "cell_type": "code",
   "execution_count": 7,
   "metadata": {},
   "outputs": [
    {
     "data": {
      "image/png": "[encoded data removed]",
      "text/plain": [
       "<Figure size 432x288 with 1 Axes>"
      ]
     },
     "metadata": {
      "needs_background": "light"
     },
     "output_type": "display_data"
    }
   ],
   "source": [
    "sns.barplot(x=data['Project Lead'].value_counts().head().index , y= data['Project Lead'].value_counts().head().values, data=data)\n",
    "plt.title=(\"Top 5 Project leader\")\n",
    "plt.xlabels = (\"Project Leader\")\n",
    "plt.ylabels = (\"project Count\")\n",
    "plt.show()"
   ]
  },
  {
   "cell_type": "markdown",
   "metadata": {},
   "source": [
    "## This shows that these are the top 5 projects lead with maximum projects"
   ]
  },
  {
   "cell_type": "markdown",
   "metadata": {},
   "source": [
    "## Cost and Revenue"
   ]
  },
  {
   "cell_type": "code",
   "execution_count": 8,
   "metadata": {},
   "outputs": [
    {
     "data": {
      "image/png": "[encoded data removed]",
      "text/plain": [
       "<Figure size 1152x576 with 1 Axes>"
      ]
     },
     "metadata": {
      "needs_background": "light"
     },
     "output_type": "display_data"
    }
   ],
   "source": [
    "sns.catplot(x=\"Cost($)\" , y='Revenue($)' , data= data , kind = 'bar',height = 8, aspect= 2)\n",
    "plt.xlabel(\"Cost\")\n",
    "plt. ylabel(\"Revenue\")\n",
    "plt.show()"
   ]
  },
  {
   "cell_type": "markdown",
   "metadata": {},
   "source": [
    "## Project lead and cost"
   ]
  },
  {
   "cell_type": "code",
   "execution_count": 9,
   "metadata": {},
   "outputs": [
    {
     "data": {
      "image/png": "[encoded data removed]",
      "text/plain": [
       "<Figure size 1152x576 with 1 Axes>"
      ]
     },
     "metadata": {
      "needs_background": "light"
     },
     "output_type": "display_data"
    }
   ],
   "source": [
    "sns.catplot(x=data['Project Lead'], y= data['Cost($)'], data=data, kind = 'bar',height = 8, aspect= 2)\n",
    "plt.title=(\"Project Leader and Cost\")\n",
    "plt.xlabels = (\"Project Leader\")\n",
    "plt.ylabels = (\"Cost\")\n",
    "plt.show()"
   ]
  },
  {
   "cell_type": "markdown",
   "metadata": {},
   "source": [
    "## project lead and revenue"
   ]
  },
  {
   "cell_type": "code",
   "execution_count": 10,
   "metadata": {},
   "outputs": [
    {
     "data": {
      "image/png": "[encoded data removed]",
      "text/plain": [
       "<Figure size 1152x576 with 1 Axes>"
      ]
     },
     "metadata": {
      "needs_background": "light"
     },
     "output_type": "display_data"
    }
   ],
   "source": [
    "sns.catplot(x=data['Project Lead'], y= data['Revenue($)'], data=data, kind = 'bar',height = 8, aspect= 2)\n",
    "plt.title=(\"Project Leader and Revenue\")\n",
    "plt.xlabels = (\"Project Leader\")\n",
    "plt.ylabels = (\"Revenue\")\n",
    "plt.show()"
   ]
  },
  {
   "cell_type": "markdown",
   "metadata": {},
   "source": [
    "## Task and time taken to accomplish it "
   ]
  },
  {
   "cell_type": "code",
   "execution_count": 11,
   "metadata": {},
   "outputs": [
    {
     "data": {
      "image/png": "[encoded data removed]",
      "text/plain": [
       "<Figure size 432x288 with 1 Axes>"
      ]
     },
     "metadata": {
      "needs_background": "light"
     },
     "output_type": "display_data"
    }
   ],
   "source": [
    "sns.barplot(x=\"Task Name\", y= \"Time taken(hours)\", data=data)\n",
    "plt.title=(\"Task and Time taken\")\n",
    "plt.xlabels = (\"Task Name\")\n",
    "plt.ylabels = (\"Tak name\")\n",
    "plt.show()"
   ]
  },
  {
   "cell_type": "markdown",
   "metadata": {},
   "source": [
    "## Task and cost for that task"
   ]
  },
  {
   "cell_type": "code",
   "execution_count": 12,
   "metadata": {},
   "outputs": [
    {
     "data": {
      "image/png": "[encoded data removed]",
      "text/plain": [
       "<Figure size 432x288 with 1 Axes>"
      ]
     },
     "metadata": {
      "needs_background": "light"
     },
     "output_type": "display_data"
    }
   ],
   "source": [
    "sns.barplot(x=\"Task Name\", y= \"Cost($)\", data=data)\n",
    "plt.title=(\"Task and Cost\")\n",
    "plt.xlabels = (\"Task Name\")\n",
    "plt.ylabels = (\"Cost\")\n",
    "plt.show()"
   ]
  },
  {
   "cell_type": "markdown",
   "metadata": {},
   "source": [
    "## Task and revenue for that task"
   ]
  },
  {
   "cell_type": "code",
   "execution_count": 13,
   "metadata": {},
   "outputs": [
    {
     "data": {
      "image/png": "[encoded data removed]",
      "text/plain": [
       "<Figure size 432x288 with 1 Axes>"
      ]
     },
     "metadata": {
      "needs_background": "light"
     },
     "output_type": "display_data"
    }
   ],
   "source": [
    "sns.barplot(x=\"Task Name\", y= \"Revenue($)\", data=data)\n",
    "plt.title=(\"Task and Revenue\")\n",
    "plt.xlabels = (\"Task Name\")\n",
    "plt.ylabels = (\"Revenue\")\n",
    "plt.show()"
   ]
  }
 ],
 "metadata": {
  "kernelspec": {
   "display_name": "Python 3",
   "language": "python",
   "name": "python3"
  },
  "language_info": {
   "codemirror_mode": {
    "name": "ipython",
    "version": 3
   },
   "file_extension": ".py",
   "mimetype": "text/x-python",
   "name": "python",
   "nbconvert_exporter": "python",
   "pygments_lexer": "ipython3",
   "version": "3.8.5"
  }
 },
 "nbformat": 4,
 "nbformat_minor": 4
}
