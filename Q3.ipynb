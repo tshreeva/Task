{
 "cells": [
  {
   "cell_type": "code",
   "execution_count": 1,
   "metadata": {},
   "outputs": [],
   "source": [
    "import numpy as np \n",
    "import pandas as pd"
   ]
  },
  {
   "cell_type": "code",
   "execution_count": 2,
   "metadata": {},
   "outputs": [],
   "source": [
    "data = pd.read_csv(r\"C:\\Users\\ladm\\Downloads\\data 2.csv\")"
   ]
  },
  {
   "cell_type": "code",
   "execution_count": 3,
   "metadata": {},
   "outputs": [
    {
     "data": {
      "text/html": [
       "<div>\n",
       "<style scoped>\n",
       "    .dataframe tbody tr th:only-of-type {\n",
       "        vertical-align: middle;\n",
       "    }\n",
       "\n",
       "    .dataframe tbody tr th {\n",
       "        vertical-align: top;\n",
       "    }\n",
       "\n",
       "    .dataframe thead th {\n",
       "        text-align: right;\n",
       "    }\n",
       "</style>\n",
       "<table border=\"1\" class=\"dataframe\">\n",
       "  <thead>\n",
       "    <tr style=\"text-align: right;\">\n",
       "      <th></th>\n",
       "      <th>2007</th>\n",
       "      <th>Jan.</th>\n",
       "      <th>Feb.</th>\n",
       "      <th>Mar.</th>\n",
       "      <th>Apr.</th>\n",
       "      <th>May.</th>\n",
       "      <th>Jun.</th>\n",
       "      <th>Jul.</th>\n",
       "      <th>Aug.</th>\n",
       "      <th>Sep.</th>\n",
       "      <th>Oct.</th>\n",
       "      <th>Nov.</th>\n",
       "      <th>Dec.</th>\n",
       "    </tr>\n",
       "  </thead>\n",
       "  <tbody>\n",
       "    <tr>\n",
       "      <th>0</th>\n",
       "      <td>Value of Pound in Euros</td>\n",
       "      <td>1.507</td>\n",
       "      <td>1.497</td>\n",
       "      <td>1.470</td>\n",
       "      <td>1.471</td>\n",
       "      <td>1.468</td>\n",
       "      <td>1.480</td>\n",
       "      <td>1.48</td>\n",
       "      <td>1.476</td>\n",
       "      <td>1.451</td>\n",
       "      <td>1.437</td>\n",
       "      <td>1.411</td>\n",
       "      <td>1.384</td>\n",
       "    </tr>\n",
       "    <tr>\n",
       "      <th>1</th>\n",
       "      <td>Value of Pound in Dollar</td>\n",
       "      <td>1.959</td>\n",
       "      <td>1.959</td>\n",
       "      <td>1.947</td>\n",
       "      <td>1.988</td>\n",
       "      <td>1.984</td>\n",
       "      <td>1.987</td>\n",
       "      <td>2.03</td>\n",
       "      <td>2.011</td>\n",
       "      <td>2.018</td>\n",
       "      <td>2.045</td>\n",
       "      <td>2.071</td>\n",
       "      <td>2.014</td>\n",
       "    </tr>\n",
       "  </tbody>\n",
       "</table>\n",
       "</div>"
      ],
      "text/plain": [
       "                       2007   Jan.   Feb.   Mar.   Apr.   May.   Jun.  Jul.  \\\n",
       "0   Value of Pound in Euros  1.507  1.497  1.470  1.471  1.468  1.480  1.48   \n",
       "1  Value of Pound in Dollar  1.959  1.959  1.947  1.988  1.984  1.987  2.03   \n",
       "\n",
       "    Aug.   Sep.   Oct.   Nov.   Dec.  \n",
       "0  1.476  1.451  1.437  1.411  1.384  \n",
       "1  2.011  2.018  2.045  2.071  2.014  "
      ]
     },
     "execution_count": 3,
     "metadata": {},
     "output_type": "execute_result"
    }
   ],
   "source": [
    "data.head()"
   ]
  },
  {
   "cell_type": "code",
   "execution_count": 4,
   "metadata": {},
   "outputs": [
    {
     "data": {
      "text/html": [
       "<div>\n",
       "<style scoped>\n",
       "    .dataframe tbody tr th:only-of-type {\n",
       "        vertical-align: middle;\n",
       "    }\n",
       "\n",
       "    .dataframe tbody tr th {\n",
       "        vertical-align: top;\n",
       "    }\n",
       "\n",
       "    .dataframe thead th {\n",
       "        text-align: right;\n",
       "    }\n",
       "</style>\n",
       "<table border=\"1\" class=\"dataframe\">\n",
       "  <thead>\n",
       "    <tr style=\"text-align: right;\">\n",
       "      <th></th>\n",
       "      <th>2007</th>\n",
       "      <th>Jan.</th>\n",
       "      <th>Feb.</th>\n",
       "      <th>Mar.</th>\n",
       "      <th>Apr.</th>\n",
       "      <th>May.</th>\n",
       "      <th>Jun.</th>\n",
       "      <th>Jul.</th>\n",
       "      <th>Aug.</th>\n",
       "      <th>Sep.</th>\n",
       "      <th>Oct.</th>\n",
       "      <th>Nov.</th>\n",
       "      <th>Dec.</th>\n",
       "    </tr>\n",
       "  </thead>\n",
       "  <tbody>\n",
       "    <tr>\n",
       "      <th>0</th>\n",
       "      <td>Value of Pound in Euros</td>\n",
       "      <td>1.507</td>\n",
       "      <td>1.497</td>\n",
       "      <td>1.470</td>\n",
       "      <td>1.471</td>\n",
       "      <td>1.468</td>\n",
       "      <td>1.480</td>\n",
       "      <td>1.48</td>\n",
       "      <td>1.476</td>\n",
       "      <td>1.451</td>\n",
       "      <td>1.437</td>\n",
       "      <td>1.411</td>\n",
       "      <td>1.384</td>\n",
       "    </tr>\n",
       "    <tr>\n",
       "      <th>1</th>\n",
       "      <td>Value of Pound in Dollar</td>\n",
       "      <td>1.959</td>\n",
       "      <td>1.959</td>\n",
       "      <td>1.947</td>\n",
       "      <td>1.988</td>\n",
       "      <td>1.984</td>\n",
       "      <td>1.987</td>\n",
       "      <td>2.03</td>\n",
       "      <td>2.011</td>\n",
       "      <td>2.018</td>\n",
       "      <td>2.045</td>\n",
       "      <td>2.071</td>\n",
       "      <td>2.014</td>\n",
       "    </tr>\n",
       "  </tbody>\n",
       "</table>\n",
       "</div>"
      ],
      "text/plain": [
       "                       2007   Jan.   Feb.   Mar.   Apr.   May.   Jun.  Jul.  \\\n",
       "0   Value of Pound in Euros  1.507  1.497  1.470  1.471  1.468  1.480  1.48   \n",
       "1  Value of Pound in Dollar  1.959  1.959  1.947  1.988  1.984  1.987  2.03   \n",
       "\n",
       "    Aug.   Sep.   Oct.   Nov.   Dec.  \n",
       "0  1.476  1.451  1.437  1.411  1.384  \n",
       "1  2.011  2.018  2.045  2.071  2.014  "
      ]
     },
     "execution_count": 4,
     "metadata": {},
     "output_type": "execute_result"
    }
   ],
   "source": [
    "data"
   ]
  },
  {
   "cell_type": "markdown",
   "metadata": {},
   "source": [
    "## a. How many Dollars was one Euro worth in May?"
   ]
  },
  {
   "cell_type": "code",
   "execution_count": 5,
   "metadata": {},
   "outputs": [
    {
     "data": {
      "text/plain": [
       "1.3514986376021796"
      ]
     },
     "execution_count": 5,
     "metadata": {},
     "output_type": "execute_result"
    }
   ],
   "source": [
    "#value of 1 Euro in dollars = Value of 1 Pound in Dollars in May / Value of 1 Pound in Euros in May\n",
    "one_euro_dollar = data['May.'].iloc[1]/data['May.'].iloc[0]\n",
    "one_euro_dollar"
   ]
  },
  {
   "cell_type": "markdown",
   "metadata": {},
   "source": [
    "## 1.35 Dollars was one Euro worth in May"
   ]
  },
  {
   "cell_type": "markdown",
   "metadata": {},
   "source": [
    "## b.What was the percentage drop in the value of the Pound compared to the Euro over the year?"
   ]
  },
  {
   "cell_type": "code",
   "execution_count": 6,
   "metadata": {},
   "outputs": [
    {
     "name": "stdout",
     "output_type": "stream",
     "text": [
      "8.161911081619097\n"
     ]
    }
   ],
   "source": [
    "#Percentage change = (change in value / original value) * 100\n",
    "percent = (data['Jan.'].iloc[0] - \n",
    "                  data['Dec.'].iloc[0])/data['Jan.'].iloc[0] * 100\n",
    "print(percent)"
   ]
  },
  {
   "cell_type": "markdown",
   "metadata": {},
   "source": [
    "## The percentage drop in the value of the Pound compared to the Euro over the year is 8.161911081619097 which roundoffs to 8."
   ]
  },
  {
   "cell_type": "markdown",
   "metadata": {},
   "source": [
    "## c. If you converted 67 Euros to Pounds in February, how many Dollars (to the nearest Dollar) would this be worth in November?"
   ]
  },
  {
   "cell_type": "code",
   "execution_count": 7,
   "metadata": {},
   "outputs": [
    {
     "name": "stdout",
     "output_type": "stream",
     "text": [
      "44.756179024716104\n"
     ]
    }
   ],
   "source": [
    "#67_euros_to_pound_in_feb = 67/ Value of Pound in Euros in feb\n",
    "euros_to_pound = 67/data['Feb.'].iloc[0]\n",
    "print(euros_to_pound)"
   ]
  },
  {
   "cell_type": "code",
   "execution_count": 8,
   "metadata": {},
   "outputs": [
    {
     "name": "stdout",
     "output_type": "stream",
     "text": [
      "92.67724999999999\n"
     ]
    }
   ],
   "source": [
    "# 44.75_pound_in_nov = 44.75 * Value of Pound in Dollar in nov\n",
    "worth_in_nov = 44.75 * data['Nov.'].iloc[1]\n",
    "print(worth_in_nov)"
   ]
  },
  {
   "cell_type": "markdown",
   "metadata": {},
   "source": [
    "## So, it would be worth nearest to $93 in November ."
   ]
  }
 ],
 "metadata": {
  "kernelspec": {
   "display_name": "Python 3",
   "language": "python",
   "name": "python3"
  },
  "language_info": {
   "codemirror_mode": {
    "name": "ipython",
    "version": 3
   },
   "file_extension": ".py",
   "mimetype": "text/x-python",
   "name": "python",
   "nbconvert_exporter": "python",
   "pygments_lexer": "ipython3",
   "version": "3.8.5"
  }
 },
 "nbformat": 4,
 "nbformat_minor": 4
}
